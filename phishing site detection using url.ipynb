{
 "cells": [
  {
   "cell_type": "code",
   "execution_count": 1,
   "id": "62214170",
   "metadata": {},
   "outputs": [],
   "source": [
    "import pandas as pd\n",
    "import numpy as np\n",
    "import seaborn as sns\n",
    "import re\n",
    "from urllib.parse import urlparse\n",
    "from googlesearch import search\n",
    "import matplotlib.pyplot as plt\n",
    "from sklearn.metrics import accuracy_score,confusion_matrix,classification_report\n",
    "from sklearn.model_selection import train_test_split"
   ]
  },
  {
   "cell_type": "code",
   "execution_count": 2,
   "id": "f12a58a8",
   "metadata": {},
   "outputs": [],
   "source": [
    "df=pd.read_csv('phishing_site_urls.csv')"
   ]
  },
  {
   "cell_type": "code",
   "execution_count": 3,
   "id": "47fe13d3",
   "metadata": {},
   "outputs": [
    {
     "data": {
      "text/html": [
       "<div>\n",
       "<style scoped>\n",
       "    .dataframe tbody tr th:only-of-type {\n",
       "        vertical-align: middle;\n",
       "    }\n",
       "\n",
       "    .dataframe tbody tr th {\n",
       "        vertical-align: top;\n",
       "    }\n",
       "\n",
       "    .dataframe thead th {\n",
       "        text-align: right;\n",
       "    }\n",
       "</style>\n",
       "<table border=\"1\" class=\"dataframe\">\n",
       "  <thead>\n",
       "    <tr style=\"text-align: right;\">\n",
       "      <th></th>\n",
       "      <th>URL</th>\n",
       "      <th>Label</th>\n",
       "    </tr>\n",
       "  </thead>\n",
       "  <tbody>\n",
       "    <tr>\n",
       "      <th>0</th>\n",
       "      <td>nobell.it/70ffb52d079109dca5664cce6f317373782/...</td>\n",
       "      <td>bad</td>\n",
       "    </tr>\n",
       "    <tr>\n",
       "      <th>1</th>\n",
       "      <td>www.dghjdgf.com/paypal.co.uk/cycgi-bin/webscrc...</td>\n",
       "      <td>bad</td>\n",
       "    </tr>\n",
       "    <tr>\n",
       "      <th>2</th>\n",
       "      <td>serviciosbys.com/paypal.cgi.bin.get-into.herf....</td>\n",
       "      <td>bad</td>\n",
       "    </tr>\n",
       "    <tr>\n",
       "      <th>3</th>\n",
       "      <td>mail.printakid.com/www.online.americanexpress....</td>\n",
       "      <td>bad</td>\n",
       "    </tr>\n",
       "    <tr>\n",
       "      <th>4</th>\n",
       "      <td>thewhiskeydregs.com/wp-content/themes/widescre...</td>\n",
       "      <td>bad</td>\n",
       "    </tr>\n",
       "  </tbody>\n",
       "</table>\n",
       "</div>"
      ],
      "text/plain": [
       "                                                 URL Label\n",
       "0  nobell.it/70ffb52d079109dca5664cce6f317373782/...   bad\n",
       "1  www.dghjdgf.com/paypal.co.uk/cycgi-bin/webscrc...   bad\n",
       "2  serviciosbys.com/paypal.cgi.bin.get-into.herf....   bad\n",
       "3  mail.printakid.com/www.online.americanexpress....   bad\n",
       "4  thewhiskeydregs.com/wp-content/themes/widescre...   bad"
      ]
     },
     "execution_count": 3,
     "metadata": {},
     "output_type": "execute_result"
    }
   ],
   "source": [
    "df.head()"
   ]
  },
  {
   "cell_type": "code",
   "execution_count": 10,
   "id": "2a529124",
   "metadata": {},
   "outputs": [],
   "source": [
    "def abnormal_url(url):\n",
    "    hostname=urlparse(url).hostname\n",
    "    hostname=str(hostname)\n",
    "    match=re.search(hostname,url)\n",
    "    if match:\n",
    "        return 1\n",
    "    else:\n",
    "        return 0"
   ]
  },
  {
   "cell_type": "code",
   "execution_count": 11,
   "id": "d440fd3d",
   "metadata": {},
   "outputs": [],
   "source": [
    "df['abnormal_url']=df['URL'].apply(lambda x:abnormal_url(x))"
   ]
  },
  {
   "cell_type": "code",
   "execution_count": 17,
   "id": "94ff1b75",
   "metadata": {},
   "outputs": [
    {
     "data": {
      "text/html": [
       "<div>\n",
       "<style scoped>\n",
       "    .dataframe tbody tr th:only-of-type {\n",
       "        vertical-align: middle;\n",
       "    }\n",
       "\n",
       "    .dataframe tbody tr th {\n",
       "        vertical-align: top;\n",
       "    }\n",
       "\n",
       "    .dataframe thead th {\n",
       "        text-align: right;\n",
       "    }\n",
       "</style>\n",
       "<table border=\"1\" class=\"dataframe\">\n",
       "  <thead>\n",
       "    <tr style=\"text-align: right;\">\n",
       "      <th></th>\n",
       "      <th>URL</th>\n",
       "      <th>Label</th>\n",
       "      <th>count_dot</th>\n",
       "      <th>count_w</th>\n",
       "      <th>count_atrate</th>\n",
       "      <th>abnormal_url</th>\n",
       "      <th>google_index</th>\n",
       "    </tr>\n",
       "  </thead>\n",
       "  <tbody>\n",
       "    <tr>\n",
       "      <th>0</th>\n",
       "      <td>nobell.it/70ffb52d079109dca5664cce6f317373782/...</td>\n",
       "      <td>bad</td>\n",
       "      <td>6</td>\n",
       "      <td>0</td>\n",
       "      <td>0</td>\n",
       "      <td>0</td>\n",
       "      <td>1</td>\n",
       "    </tr>\n",
       "    <tr>\n",
       "      <th>1</th>\n",
       "      <td>www.dghjdgf.com/paypal.co.uk/cycgi-bin/webscrc...</td>\n",
       "      <td>bad</td>\n",
       "      <td>5</td>\n",
       "      <td>1</td>\n",
       "      <td>0</td>\n",
       "      <td>0</td>\n",
       "      <td>1</td>\n",
       "    </tr>\n",
       "    <tr>\n",
       "      <th>2</th>\n",
       "      <td>serviciosbys.com/paypal.cgi.bin.get-into.herf....</td>\n",
       "      <td>bad</td>\n",
       "      <td>7</td>\n",
       "      <td>0</td>\n",
       "      <td>0</td>\n",
       "      <td>0</td>\n",
       "      <td>1</td>\n",
       "    </tr>\n",
       "  </tbody>\n",
       "</table>\n",
       "</div>"
      ],
      "text/plain": [
       "                                                 URL Label  count_dot  \\\n",
       "0  nobell.it/70ffb52d079109dca5664cce6f317373782/...   bad          6   \n",
       "1  www.dghjdgf.com/paypal.co.uk/cycgi-bin/webscrc...   bad          5   \n",
       "2  serviciosbys.com/paypal.cgi.bin.get-into.herf....   bad          7   \n",
       "\n",
       "   count_w  count_atrate  abnormal_url  google_index  \n",
       "0        0             0             0             1  \n",
       "1        1             0             0             1  \n",
       "2        0             0             0             1  "
      ]
     },
     "execution_count": 17,
     "metadata": {},
     "output_type": "execute_result"
    }
   ],
   "source": [
    "df.head(3)"
   ]
  },
  {
   "cell_type": "code",
   "execution_count": 13,
   "id": "9eae1dfb",
   "metadata": {},
   "outputs": [],
   "source": [
    "def count_dot(url):\n",
    "    count_dot=url.count('.')\n",
    "    return count_dot\n",
    "df['count_dot']=df['URL'].apply(lambda x:count_dot(x))"
   ]
  },
  {
   "cell_type": "code",
   "execution_count": 14,
   "id": "5033d646",
   "metadata": {},
   "outputs": [],
   "source": [
    "def count_w(url):\n",
    "    count_w=url.count('www')\n",
    "    return count_w\n",
    "df['count_w']=df['URL'].apply(lambda x:count_w(x))"
   ]
  },
  {
   "cell_type": "code",
   "execution_count": 15,
   "id": "22f5a739",
   "metadata": {},
   "outputs": [],
   "source": [
    "def count_atrate(url):\n",
    "    return url.count('@')\n",
    "df['count_atrate']=df['URL'].apply(lambda x:count_atrate(x))"
   ]
  },
  {
   "cell_type": "code",
   "execution_count": 16,
   "id": "983ab025",
   "metadata": {},
   "outputs": [],
   "source": [
    "def google_index(url):\n",
    "    site = search(url, 5)\n",
    "    return 1 if site else 0\n",
    "df['google_index'] = df['URL'].apply(lambda x: google_index(x))"
   ]
  },
  {
   "cell_type": "code",
   "execution_count": 18,
   "id": "ddbd29ec",
   "metadata": {},
   "outputs": [],
   "source": [
    "def no_of_dir(url):\n",
    "    urldir = urlparse(url).path\n",
    "    return urldir.count('/')\n",
    "\n",
    "df['count_dir'] = df['URL'].apply(lambda x: no_of_dir(x))\n",
    "\n",
    "def no_of_embed(url):\n",
    "    urldir = urlparse(url).path\n",
    "    return urldir.count('//')\n",
    "\n",
    "df['count_embed_domian'] = df['URL'].apply(lambda x: no_of_embed(x))"
   ]
  },
  {
   "cell_type": "code",
   "execution_count": 19,
   "id": "2eb1106a",
   "metadata": {},
   "outputs": [],
   "source": [
    "def count_https(url):\n",
    "    return url.count('https')\n",
    "\n",
    "df['count-https'] = df['URL'].apply(lambda x : count_https(x))\n",
    "\n",
    "def count_http(url):\n",
    "    return url.count('http')\n",
    "\n",
    "df['count-http'] = df['URL'].apply(lambda x : count_http(x))"
   ]
  },
  {
   "cell_type": "code",
   "execution_count": 20,
   "id": "53f7ae2a",
   "metadata": {},
   "outputs": [],
   "source": [
    "def url_length(url):\n",
    "    return len(str(url))\n",
    "df['url_length'] = df['URL'].apply(lambda x: url_length(x))\n",
    "\n",
    "\n",
    "def hostname_length(url):\n",
    "    return len(urlparse(url).netloc)\n",
    "\n",
    "df['hostname_length'] = df['URL'].apply(lambda x: hostname_length(x))\n"
   ]
  },
  {
   "cell_type": "code",
   "execution_count": 21,
   "id": "20687676",
   "metadata": {},
   "outputs": [
    {
     "data": {
      "text/html": [
       "<div>\n",
       "<style scoped>\n",
       "    .dataframe tbody tr th:only-of-type {\n",
       "        vertical-align: middle;\n",
       "    }\n",
       "\n",
       "    .dataframe tbody tr th {\n",
       "        vertical-align: top;\n",
       "    }\n",
       "\n",
       "    .dataframe thead th {\n",
       "        text-align: right;\n",
       "    }\n",
       "</style>\n",
       "<table border=\"1\" class=\"dataframe\">\n",
       "  <thead>\n",
       "    <tr style=\"text-align: right;\">\n",
       "      <th></th>\n",
       "      <th>URL</th>\n",
       "      <th>Label</th>\n",
       "      <th>count_dot</th>\n",
       "      <th>count_w</th>\n",
       "      <th>count_atrate</th>\n",
       "      <th>abnormal_url</th>\n",
       "      <th>google_index</th>\n",
       "      <th>count_dir</th>\n",
       "      <th>count_embed_domian</th>\n",
       "      <th>count-https</th>\n",
       "      <th>count-http</th>\n",
       "      <th>url_length</th>\n",
       "      <th>hostname_length</th>\n",
       "    </tr>\n",
       "  </thead>\n",
       "  <tbody>\n",
       "    <tr>\n",
       "      <th>0</th>\n",
       "      <td>nobell.it/70ffb52d079109dca5664cce6f317373782/...</td>\n",
       "      <td>bad</td>\n",
       "      <td>6</td>\n",
       "      <td>0</td>\n",
       "      <td>0</td>\n",
       "      <td>0</td>\n",
       "      <td>1</td>\n",
       "      <td>8</td>\n",
       "      <td>0</td>\n",
       "      <td>0</td>\n",
       "      <td>0</td>\n",
       "      <td>225</td>\n",
       "      <td>0</td>\n",
       "    </tr>\n",
       "    <tr>\n",
       "      <th>1</th>\n",
       "      <td>www.dghjdgf.com/paypal.co.uk/cycgi-bin/webscrc...</td>\n",
       "      <td>bad</td>\n",
       "      <td>5</td>\n",
       "      <td>1</td>\n",
       "      <td>0</td>\n",
       "      <td>0</td>\n",
       "      <td>1</td>\n",
       "      <td>4</td>\n",
       "      <td>0</td>\n",
       "      <td>0</td>\n",
       "      <td>0</td>\n",
       "      <td>81</td>\n",
       "      <td>0</td>\n",
       "    </tr>\n",
       "  </tbody>\n",
       "</table>\n",
       "</div>"
      ],
      "text/plain": [
       "                                                 URL Label  count_dot  \\\n",
       "0  nobell.it/70ffb52d079109dca5664cce6f317373782/...   bad          6   \n",
       "1  www.dghjdgf.com/paypal.co.uk/cycgi-bin/webscrc...   bad          5   \n",
       "\n",
       "   count_w  count_atrate  abnormal_url  google_index  count_dir  \\\n",
       "0        0             0             0             1          8   \n",
       "1        1             0             0             1          4   \n",
       "\n",
       "   count_embed_domian  count-https  count-http  url_length  hostname_length  \n",
       "0                   0            0           0         225                0  \n",
       "1                   0            0           0          81                0  "
      ]
     },
     "execution_count": 21,
     "metadata": {},
     "output_type": "execute_result"
    }
   ],
   "source": [
    "df.head(2)"
   ]
  },
  {
   "cell_type": "code",
   "execution_count": 22,
   "id": "018d2600",
   "metadata": {},
   "outputs": [
    {
     "data": {
      "text/plain": [
       "1    549346\n",
       "Name: google_index, dtype: int64"
      ]
     },
     "execution_count": 22,
     "metadata": {},
     "output_type": "execute_result"
    }
   ],
   "source": [
    "df['google_index'].value_counts()"
   ]
  },
  {
   "cell_type": "code",
   "execution_count": 23,
   "id": "a062c7b0",
   "metadata": {},
   "outputs": [],
   "source": [
    "from urllib.parse import urlparse\n",
    "from tld import get_tld\n",
    "import os.path\n",
    "\n",
    "def fd_length(url):\n",
    "    urlpath= urlparse(url).path\n",
    "    try:\n",
    "        return len(urlpath.split('/')[1])\n",
    "    except:\n",
    "        return 0\n",
    "\n",
    "df['fd_length'] = df['URL'].apply(lambda x: fd_length(x))\n",
    "\n",
    "\n",
    "df['tld'] = df['URL'].apply(lambda x: get_tld(x,fail_silently=True))\n",
    "\n",
    "\n",
    "def tld_length(tld):\n",
    "    try:\n",
    "        return len(tld)\n",
    "    except:\n",
    "        return -1\n",
    "\n",
    "df['tld_length'] = df['tld'].apply(lambda x: tld_length(x))"
   ]
  },
  {
   "cell_type": "code",
   "execution_count": 24,
   "id": "170a10a3",
   "metadata": {},
   "outputs": [],
   "source": [
    "df=df.drop(columns=['URL','google_index'])"
   ]
  },
  {
   "cell_type": "code",
   "execution_count": 25,
   "id": "d83be7cd",
   "metadata": {},
   "outputs": [],
   "source": [
    "from sklearn.preprocessing import LabelEncoder\n",
    "encoder=LabelEncoder()\n",
    "df['type']=encoder.fit_transform(df['Label'])#converting label to numeric form"
   ]
  },
  {
   "cell_type": "code",
   "execution_count": 29,
   "id": "52958679",
   "metadata": {},
   "outputs": [],
   "source": [
    "df=df.drop(columns=['tld'])"
   ]
  },
  {
   "cell_type": "code",
   "execution_count": 30,
   "id": "bf71f415",
   "metadata": {},
   "outputs": [
    {
     "data": {
      "text/html": [
       "<div>\n",
       "<style scoped>\n",
       "    .dataframe tbody tr th:only-of-type {\n",
       "        vertical-align: middle;\n",
       "    }\n",
       "\n",
       "    .dataframe tbody tr th {\n",
       "        vertical-align: top;\n",
       "    }\n",
       "\n",
       "    .dataframe thead th {\n",
       "        text-align: right;\n",
       "    }\n",
       "</style>\n",
       "<table border=\"1\" class=\"dataframe\">\n",
       "  <thead>\n",
       "    <tr style=\"text-align: right;\">\n",
       "      <th></th>\n",
       "      <th>Label</th>\n",
       "      <th>count_dot</th>\n",
       "      <th>count_w</th>\n",
       "      <th>count_atrate</th>\n",
       "      <th>abnormal_url</th>\n",
       "      <th>count_dir</th>\n",
       "      <th>count_embed_domian</th>\n",
       "      <th>count-https</th>\n",
       "      <th>count-http</th>\n",
       "      <th>url_length</th>\n",
       "      <th>hostname_length</th>\n",
       "      <th>fd_length</th>\n",
       "      <th>tld_length</th>\n",
       "      <th>type</th>\n",
       "    </tr>\n",
       "  </thead>\n",
       "  <tbody>\n",
       "    <tr>\n",
       "      <th>0</th>\n",
       "      <td>bad</td>\n",
       "      <td>6</td>\n",
       "      <td>0</td>\n",
       "      <td>0</td>\n",
       "      <td>0</td>\n",
       "      <td>8</td>\n",
       "      <td>0</td>\n",
       "      <td>0</td>\n",
       "      <td>0</td>\n",
       "      <td>225</td>\n",
       "      <td>0</td>\n",
       "      <td>35</td>\n",
       "      <td>-1</td>\n",
       "      <td>0</td>\n",
       "    </tr>\n",
       "    <tr>\n",
       "      <th>1</th>\n",
       "      <td>bad</td>\n",
       "      <td>5</td>\n",
       "      <td>1</td>\n",
       "      <td>0</td>\n",
       "      <td>0</td>\n",
       "      <td>4</td>\n",
       "      <td>0</td>\n",
       "      <td>0</td>\n",
       "      <td>0</td>\n",
       "      <td>81</td>\n",
       "      <td>0</td>\n",
       "      <td>12</td>\n",
       "      <td>-1</td>\n",
       "      <td>0</td>\n",
       "    </tr>\n",
       "  </tbody>\n",
       "</table>\n",
       "</div>"
      ],
      "text/plain": [
       "  Label  count_dot  count_w  count_atrate  abnormal_url  count_dir  \\\n",
       "0   bad          6        0             0             0          8   \n",
       "1   bad          5        1             0             0          4   \n",
       "\n",
       "   count_embed_domian  count-https  count-http  url_length  hostname_length  \\\n",
       "0                   0            0           0         225                0   \n",
       "1                   0            0           0          81                0   \n",
       "\n",
       "   fd_length  tld_length  type  \n",
       "0         35          -1     0  \n",
       "1         12          -1     0  "
      ]
     },
     "execution_count": 30,
     "metadata": {},
     "output_type": "execute_result"
    }
   ],
   "source": [
    "df.head(2)"
   ]
  },
  {
   "cell_type": "code",
   "execution_count": 31,
   "id": "32eb43a6",
   "metadata": {},
   "outputs": [],
   "source": [
    "df=df.drop(columns=['Label'])"
   ]
  },
  {
   "cell_type": "code",
   "execution_count": 32,
   "id": "81c1f598",
   "metadata": {},
   "outputs": [],
   "source": [
    "x=df.drop(columns=['type'])\n",
    "y=df['type']"
   ]
  },
  {
   "cell_type": "code",
   "execution_count": 33,
   "id": "d0cbf6f7",
   "metadata": {},
   "outputs": [],
   "source": [
    "from sklearn.preprocessing import StandardScaler\n",
    "scaler=StandardScaler()\n",
    "X=x.columns\n",
    "x=scaler.fit_transform(x)\n",
    "x=pd.DataFrame(x,columns=X)"
   ]
  },
  {
   "cell_type": "code",
   "execution_count": 34,
   "id": "68ade991",
   "metadata": {},
   "outputs": [
    {
     "data": {
      "text/html": [
       "<div>\n",
       "<style scoped>\n",
       "    .dataframe tbody tr th:only-of-type {\n",
       "        vertical-align: middle;\n",
       "    }\n",
       "\n",
       "    .dataframe tbody tr th {\n",
       "        vertical-align: top;\n",
       "    }\n",
       "\n",
       "    .dataframe thead th {\n",
       "        text-align: right;\n",
       "    }\n",
       "</style>\n",
       "<table border=\"1\" class=\"dataframe\">\n",
       "  <thead>\n",
       "    <tr style=\"text-align: right;\">\n",
       "      <th></th>\n",
       "      <th>count_dot</th>\n",
       "      <th>count_w</th>\n",
       "      <th>count_atrate</th>\n",
       "      <th>abnormal_url</th>\n",
       "      <th>count_dir</th>\n",
       "      <th>count_embed_domian</th>\n",
       "      <th>count-https</th>\n",
       "      <th>count-http</th>\n",
       "      <th>url_length</th>\n",
       "      <th>hostname_length</th>\n",
       "      <th>fd_length</th>\n",
       "      <th>tld_length</th>\n",
       "    </tr>\n",
       "  </thead>\n",
       "  <tbody>\n",
       "    <tr>\n",
       "      <th>0</th>\n",
       "      <td>2.599770</td>\n",
       "      <td>-0.329612</td>\n",
       "      <td>-0.056935</td>\n",
       "      <td>-0.01636</td>\n",
       "      <td>3.708457</td>\n",
       "      <td>-0.03723</td>\n",
       "      <td>-0.040322</td>\n",
       "      <td>-0.076683</td>\n",
       "      <td>3.923264</td>\n",
       "      <td>-0.014064</td>\n",
       "      <td>2.619927</td>\n",
       "      <td>-0.014401</td>\n",
       "    </tr>\n",
       "    <tr>\n",
       "      <th>1</th>\n",
       "      <td>1.939541</td>\n",
       "      <td>2.871047</td>\n",
       "      <td>-0.056935</td>\n",
       "      <td>-0.01636</td>\n",
       "      <td>1.065812</td>\n",
       "      <td>-0.03723</td>\n",
       "      <td>-0.040322</td>\n",
       "      <td>-0.076683</td>\n",
       "      <td>0.681338</td>\n",
       "      <td>-0.014064</td>\n",
       "      <td>0.369957</td>\n",
       "      <td>-0.014401</td>\n",
       "    </tr>\n",
       "    <tr>\n",
       "      <th>2</th>\n",
       "      <td>3.259998</td>\n",
       "      <td>-0.329612</td>\n",
       "      <td>-0.056935</td>\n",
       "      <td>-0.01636</td>\n",
       "      <td>5.690442</td>\n",
       "      <td>-0.03723</td>\n",
       "      <td>-0.040322</td>\n",
       "      <td>-0.076683</td>\n",
       "      <td>2.842622</td>\n",
       "      <td>-0.014064</td>\n",
       "      <td>6.630744</td>\n",
       "      <td>-0.014401</td>\n",
       "    </tr>\n",
       "    <tr>\n",
       "      <th>3</th>\n",
       "      <td>2.599770</td>\n",
       "      <td>2.871047</td>\n",
       "      <td>-0.056935</td>\n",
       "      <td>-0.01636</td>\n",
       "      <td>-0.255511</td>\n",
       "      <td>-0.03723</td>\n",
       "      <td>-0.040322</td>\n",
       "      <td>-0.076683</td>\n",
       "      <td>0.208557</td>\n",
       "      <td>-0.014064</td>\n",
       "      <td>2.130803</td>\n",
       "      <td>-0.014401</td>\n",
       "    </tr>\n",
       "    <tr>\n",
       "      <th>4</th>\n",
       "      <td>-0.701371</td>\n",
       "      <td>-0.329612</td>\n",
       "      <td>-0.056935</td>\n",
       "      <td>-0.01636</td>\n",
       "      <td>3.047796</td>\n",
       "      <td>-0.03723</td>\n",
       "      <td>-0.040322</td>\n",
       "      <td>-0.076683</td>\n",
       "      <td>1.469306</td>\n",
       "      <td>-0.014064</td>\n",
       "      <td>0.174307</td>\n",
       "      <td>-0.014401</td>\n",
       "    </tr>\n",
       "  </tbody>\n",
       "</table>\n",
       "</div>"
      ],
      "text/plain": [
       "   count_dot   count_w  count_atrate  abnormal_url  count_dir  \\\n",
       "0   2.599770 -0.329612     -0.056935      -0.01636   3.708457   \n",
       "1   1.939541  2.871047     -0.056935      -0.01636   1.065812   \n",
       "2   3.259998 -0.329612     -0.056935      -0.01636   5.690442   \n",
       "3   2.599770  2.871047     -0.056935      -0.01636  -0.255511   \n",
       "4  -0.701371 -0.329612     -0.056935      -0.01636   3.047796   \n",
       "\n",
       "   count_embed_domian  count-https  count-http  url_length  hostname_length  \\\n",
       "0            -0.03723    -0.040322   -0.076683    3.923264        -0.014064   \n",
       "1            -0.03723    -0.040322   -0.076683    0.681338        -0.014064   \n",
       "2            -0.03723    -0.040322   -0.076683    2.842622        -0.014064   \n",
       "3            -0.03723    -0.040322   -0.076683    0.208557        -0.014064   \n",
       "4            -0.03723    -0.040322   -0.076683    1.469306        -0.014064   \n",
       "\n",
       "   fd_length  tld_length  \n",
       "0   2.619927   -0.014401  \n",
       "1   0.369957   -0.014401  \n",
       "2   6.630744   -0.014401  \n",
       "3   2.130803   -0.014401  \n",
       "4   0.174307   -0.014401  "
      ]
     },
     "execution_count": 34,
     "metadata": {},
     "output_type": "execute_result"
    }
   ],
   "source": [
    "x.head()"
   ]
  },
  {
   "cell_type": "code",
   "execution_count": 35,
   "id": "60e730fb",
   "metadata": {},
   "outputs": [
    {
     "data": {
      "text/plain": [
       "0    0\n",
       "1    0\n",
       "Name: type, dtype: int32"
      ]
     },
     "execution_count": 35,
     "metadata": {},
     "output_type": "execute_result"
    }
   ],
   "source": [
    "y.head(2)"
   ]
  },
  {
   "cell_type": "code",
   "execution_count": 36,
   "id": "b5edf6b8",
   "metadata": {},
   "outputs": [
    {
     "data": {
      "text/plain": [
       "Index(['count_dot', 'count_w', 'count_atrate', 'abnormal_url', 'count_dir',\n",
       "       'count_embed_domian', 'count-https', 'count-http', 'url_length',\n",
       "       'hostname_length', 'fd_length', 'tld_length'],\n",
       "      dtype='object')"
      ]
     },
     "execution_count": 36,
     "metadata": {},
     "output_type": "execute_result"
    }
   ],
   "source": [
    "x.columns"
   ]
  },
  {
   "cell_type": "code",
   "execution_count": 37,
   "id": "c93d9dae",
   "metadata": {},
   "outputs": [],
   "source": [
    "x_train,x_test,y_train,y_test=train_test_split(x,y,test_size=0.2,shuffle=True)"
   ]
  },
  {
   "cell_type": "code",
   "execution_count": 38,
   "id": "6cfa599e",
   "metadata": {},
   "outputs": [
    {
     "data": {
      "text/plain": [
       "RandomForestClassifier(n_estimators=400)"
      ]
     },
     "execution_count": 38,
     "metadata": {},
     "output_type": "execute_result"
    }
   ],
   "source": [
    "from sklearn.ensemble import RandomForestClassifier\n",
    "model=RandomForestClassifier(n_estimators=400)\n",
    "model.fit(x_train,y_train)"
   ]
  },
  {
   "cell_type": "code",
   "execution_count": 39,
   "id": "76fcb243",
   "metadata": {},
   "outputs": [
    {
     "data": {
      "text/plain": [
       "0.8688119487753597"
      ]
     },
     "execution_count": 39,
     "metadata": {},
     "output_type": "execute_result"
    }
   ],
   "source": [
    "model.score(x_train,y_train)"
   ]
  },
  {
   "cell_type": "code",
   "execution_count": 40,
   "id": "cc1d1add",
   "metadata": {},
   "outputs": [],
   "source": [
    "pred=model.predict(x_test)"
   ]
  },
  {
   "cell_type": "code",
   "execution_count": 35,
   "id": "3bc08163",
   "metadata": {
    "scrolled": true
   },
   "outputs": [
    {
     "data": {
      "text/plain": [
       "0.7904796577773733"
      ]
     },
     "execution_count": 35,
     "metadata": {},
     "output_type": "execute_result"
    }
   ],
   "source": [
    "accuracy_score(y_test,pred)"
   ]
  },
  {
   "cell_type": "code",
   "execution_count": 41,
   "id": "909c4bdd",
   "metadata": {},
   "outputs": [
    {
     "name": "stdout",
     "output_type": "stream",
     "text": [
      "              precision    recall  f1-score   support\n",
      "\n",
      "           0       0.79      0.62      0.69     31270\n",
      "           1       0.86      0.93      0.90     78600\n",
      "\n",
      "    accuracy                           0.84    109870\n",
      "   macro avg       0.82      0.78      0.79    109870\n",
      "weighted avg       0.84      0.84      0.84    109870\n",
      "\n"
     ]
    }
   ],
   "source": [
    "print(classification_report(y_test,pred))"
   ]
  },
  {
   "cell_type": "code",
   "execution_count": 43,
   "id": "aae56ebe",
   "metadata": {
    "scrolled": false
   },
   "outputs": [
    {
     "data": {
      "text/plain": [
       "<AxesSubplot:>"
      ]
     },
     "execution_count": 43,
     "metadata": {},
     "output_type": "execute_result"
    },
    {
     "data": {
      "image/png": "[encoded data removed]",
      "text/plain": [
       "<Figure size 640x480 with 2 Axes>"
      ]
     },
     "metadata": {},
     "output_type": "display_data"
    }
   ],
   "source": [
    "sns.heatmap(confusion_matrix(y_test,pred),annot=True,fmt='d')"
   ]
  },
  {
   "cell_type": "code",
   "execution_count": 53,
   "id": "618c9a07",
   "metadata": {},
   "outputs": [
    {
     "data": {
      "text/plain": [
       "LogisticRegression()"
      ]
     },
     "execution_count": 53,
     "metadata": {},
     "output_type": "execute_result"
    }
   ],
   "source": [
    "from sklearn.linear_model import LogisticRegression\n",
    "model=LogisticRegression()\n",
    "model.fit(x_train,y_train)"
   ]
  },
  {
   "cell_type": "code",
   "execution_count": 54,
   "id": "e03642d6",
   "metadata": {},
   "outputs": [
    {
     "data": {
      "text/plain": [
       "0.7564326607141232"
      ]
     },
     "execution_count": 54,
     "metadata": {},
     "output_type": "execute_result"
    }
   ],
   "source": [
    "model.score(x_train,y_train)"
   ]
  },
  {
   "cell_type": "code",
   "execution_count": 56,
   "id": "48f1c01a",
   "metadata": {},
   "outputs": [
    {
     "data": {
      "text/plain": [
       "array([1, 1, 1, 1, 1, 1, 1, 1, 1, 1, 1, 1, 1, 1, 1, 0, 1, 1, 1, 1, 1, 1,\n",
       "       1, 1, 1, 1, 1, 1, 1, 1])"
      ]
     },
     "execution_count": 56,
     "metadata": {},
     "output_type": "execute_result"
    }
   ],
   "source": [
    "pred=model.predict(x_test)\n",
    "pred[:30]"
   ]
  },
  {
   "cell_type": "code",
   "execution_count": 57,
   "id": "86f0d7d7",
   "metadata": {},
   "outputs": [
    {
     "data": {
      "text/plain": [
       "0.7568854100300355"
      ]
     },
     "execution_count": 57,
     "metadata": {},
     "output_type": "execute_result"
    }
   ],
   "source": [
    "accuracy_score(y_test,pred)"
   ]
  },
  {
   "cell_type": "code",
   "execution_count": 50,
   "id": "6fa4c2c8",
   "metadata": {},
   "outputs": [],
   "source": [
    "\n",
    "def main(url):\n",
    "    \n",
    "    lists = []\n",
    "    lists.append(abnormal_url(url))\n",
    "    lists.append(count_dot(url))\n",
    "    lists.append(count_w(url))\n",
    "    lists.append(count_atrate(url))\n",
    "    lists.append(no_of_dir(url))\n",
    "    lists.append(no_of_embed(url))\n",
    "    lists.append(count_https(url))\n",
    "    lists.append(count_http(url))\n",
    "    lists.append(url_length(url))\n",
    "    lists.append(hostname_length(url))\n",
    "    lists.append(fd_length(url))\n",
    "    tld = get_tld(url,fail_silently=True)\n",
    "    lists.append(tld_length(tld))\n",
    "    \n",
    "    \n",
    "    return lists"
   ]
  },
  {
   "cell_type": "code",
   "execution_count": 62,
   "id": "28b2458a",
   "metadata": {},
   "outputs": [],
   "source": [
    "def new_prediction(test_url):\n",
    "    features_test=main(test_url)\n",
    "    features_test = np.array(features_test).reshape((1, -1))\n",
    "    predict=model.predict(features_test)\n",
    "    if predict[0]==0:\n",
    "        result='Phisihng site detected'\n",
    "        return result\n",
    "    else:\n",
    "        result='Safe site'\n",
    "        return result"
   ]
  },
  {
   "cell_type": "code",
   "execution_count": 63,
   "id": "e9d82bad",
   "metadata": {},
   "outputs": [
    {
     "name": "stdout",
     "output_type": "stream",
     "text": [
      "Phisihng site detected\n",
      "Phisihng site detected\n"
     ]
    },
    {
     "name": "stderr",
     "output_type": "stream",
     "text": [
      "C:\\Users\\meghn\\Desktop\\anaconda\\lib\\site-packages\\sklearn\\base.py:450: UserWarning: X does not have valid feature names, but LogisticRegression was fitted with feature names\n",
      "  warnings.warn(\n",
      "C:\\Users\\meghn\\Desktop\\anaconda\\lib\\site-packages\\sklearn\\base.py:450: UserWarning: X does not have valid feature names, but LogisticRegression was fitted with feature names\n",
      "  warnings.warn(\n"
     ]
    }
   ],
   "source": [
    "urls=['https://tld.readthedocs.io/en/0.4/','www.google.com']\n",
    "for i in urls:\n",
    "    print(new_prediction(i))"
   ]
  },
  {
   "cell_type": "code",
   "execution_count": null,
   "id": "58c23217",
   "metadata": {},
   "outputs": [],
   "source": []
  },
  {
   "cell_type": "code",
   "execution_count": null,
   "id": "129baa83",
   "metadata": {},
   "outputs": [],
   "source": []
  },
  {
   "cell_type": "code",
   "execution_count": null,
   "id": "37a85c9f",
   "metadata": {},
   "outputs": [],
   "source": []
  },
  {
   "cell_type": "code",
   "execution_count": null,
   "id": "1d004b1a",
   "metadata": {},
   "outputs": [],
   "source": []
  },
  {
   "cell_type": "code",
   "execution_count": null,
   "id": "f5585055",
   "metadata": {},
   "outputs": [],
   "source": []
  },
  {
   "cell_type": "code",
   "execution_count": null,
   "id": "1f4e00a1",
   "metadata": {},
   "outputs": [],
   "source": []
  },
  {
   "cell_type": "code",
   "execution_count": null,
   "id": "8bb81ae7",
   "metadata": {},
   "outputs": [],
   "source": []
  },
  {
   "cell_type": "code",
   "execution_count": null,
   "id": "72286da2",
   "metadata": {},
   "outputs": [],
   "source": []
  },
  {
   "cell_type": "code",
   "execution_count": null,
   "id": "6d5caf5e",
   "metadata": {},
   "outputs": [],
   "source": []
  },
  {
   "cell_type": "code",
   "execution_count": null,
   "id": "61c26d17",
   "metadata": {},
   "outputs": [],
   "source": []
  },
  {
   "cell_type": "code",
   "execution_count": null,
   "id": "85566ffa",
   "metadata": {},
   "outputs": [],
   "source": []
  },
  {
   "cell_type": "code",
   "execution_count": null,
   "id": "ac69a99d",
   "metadata": {},
   "outputs": [],
   "source": []
  },
  {
   "cell_type": "code",
   "execution_count": null,
   "id": "f612e803",
   "metadata": {},
   "outputs": [],
   "source": []
  },
  {
   "cell_type": "code",
   "execution_count": null,
   "id": "23480bde",
   "metadata": {},
   "outputs": [],
   "source": []
  },
  {
   "cell_type": "code",
   "execution_count": null,
   "id": "cb17ef6e",
   "metadata": {},
   "outputs": [],
   "source": []
  },
  {
   "cell_type": "code",
   "execution_count": null,
   "id": "64d2e625",
   "metadata": {},
   "outputs": [],
   "source": []
  },
  {
   "cell_type": "code",
   "execution_count": null,
   "id": "1113ec4b",
   "metadata": {},
   "outputs": [],
   "source": []
  },
  {
   "cell_type": "code",
   "execution_count": null,
   "id": "797f34f3",
   "metadata": {},
   "outputs": [],
   "source": []
  },
  {
   "cell_type": "code",
   "execution_count": null,
   "id": "2e17b8b0",
   "metadata": {},
   "outputs": [],
   "source": []
  },
  {
   "cell_type": "code",
   "execution_count": null,
   "id": "4efb8959",
   "metadata": {},
   "outputs": [],
   "source": []
  },
  {
   "cell_type": "code",
   "execution_count": null,
   "id": "59aa7fa2",
   "metadata": {},
   "outputs": [],
   "source": []
  },
  {
   "cell_type": "code",
   "execution_count": null,
   "id": "213e749a",
   "metadata": {},
   "outputs": [],
   "source": []
  }
 ],
 "metadata": {
  "kernelspec": {
   "display_name": "Python 3 (ipykernel)",
   "language": "python",
   "name": "python3"
  },
  "language_info": {
   "codemirror_mode": {
    "name": "ipython",
    "version": 3
   },
   "file_extension": ".py",
   "mimetype": "text/x-python",
   "name": "python",
   "nbconvert_exporter": "python",
   "pygments_lexer": "ipython3",
   "version": "3.9.13"
  }
 },
 "nbformat": 4,
 "nbformat_minor": 5
}
